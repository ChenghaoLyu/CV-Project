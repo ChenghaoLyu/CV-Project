{
 "cells": [
  {
   "cell_type": "code",
   "execution_count": 1,
   "metadata": {
    "id": "Infmy7IAcLon"
   },
   "outputs": [
    {
     "name": "stderr",
     "output_type": "stream",
     "text": [
      "D:\\Apps\\ana\\lib\\site-packages\\scipy\\__init__.py:146: UserWarning: A NumPy version >=1.16.5 and <1.23.0 is required for this version of SciPy (detected version 1.26.0\n",
      "  warnings.warn(f\"A NumPy version >={np_minversion} and <{np_maxversion}\"\n"
     ]
    }
   ],
   "source": [
    "from keras.preprocessing.image import ImageDataGenerator\n",
    "from keras.utils import Sequence\n",
    "from keras.models import Sequential\n",
    "from keras.layers import Conv2D, MaxPooling2D, Flatten, Dense\n",
    "from keras.optimizers import Adam\n",
    "import cv2\n",
    "import numpy as np # linear algebra\n",
    "import pandas as pd # data processing, CSV file I/O (e.g. pd.read_csv)\n",
    "import matplotlib.pyplot as plt\n",
    "from PIL import Image\n",
    "# Input data files are available in the \"../input/\" directory.\n",
    "# For example, running this (by clicking run or pressing Shift+Enter) will list the files in the input directory\n",
    "import seaborn as sns\n",
    "import os\n",
    "# Any results you write to the current directory are saved as output."
   ]
  },
  {
   "cell_type": "code",
   "execution_count": 2,
   "metadata": {},
   "outputs": [],
   "source": [
    "import numpy as np\n",
    "import tensorflow as tf\n",
    "from tensorflow.keras.models import Model\n",
    "from tensorflow.keras.layers import Input, Dense, Flatten, Lambda\n",
    "from tensorflow.keras.optimizers import Adam\n",
    "from tensorflow.keras.datasets import mnist\n",
    "from tensorflow.keras.preprocessing import image\n",
    "from tensorflow.keras.layers import BatchNormalization, Dropout\n",
    "from keras.initializers import HeNormal"
   ]
  },
  {
   "cell_type": "code",
   "execution_count": 3,
   "metadata": {
    "id": "buIfQ36HchmR"
   },
   "outputs": [
    {
     "data": {
      "text/html": [
       "<div>\n",
       "<style scoped>\n",
       "    .dataframe tbody tr th:only-of-type {\n",
       "        vertical-align: middle;\n",
       "    }\n",
       "\n",
       "    .dataframe tbody tr th {\n",
       "        vertical-align: top;\n",
       "    }\n",
       "\n",
       "    .dataframe thead th {\n",
       "        text-align: right;\n",
       "    }\n",
       "</style>\n",
       "<table border=\"1\" class=\"dataframe\">\n",
       "  <thead>\n",
       "    <tr style=\"text-align: right;\">\n",
       "      <th></th>\n",
       "      <th>left</th>\n",
       "      <th>right</th>\n",
       "    </tr>\n",
       "  </thead>\n",
       "  <tbody>\n",
       "    <tr>\n",
       "      <th>0</th>\n",
       "      <td>aaa</td>\n",
       "      <td>osr</td>\n",
       "    </tr>\n",
       "    <tr>\n",
       "      <th>1</th>\n",
       "      <td>aaz</td>\n",
       "      <td>mqw</td>\n",
       "    </tr>\n",
       "    <tr>\n",
       "      <th>2</th>\n",
       "      <td>abh</td>\n",
       "      <td>cdx</td>\n",
       "    </tr>\n",
       "    <tr>\n",
       "      <th>3</th>\n",
       "      <td>abn</td>\n",
       "      <td>uzp</td>\n",
       "    </tr>\n",
       "    <tr>\n",
       "      <th>4</th>\n",
       "      <td>abq</td>\n",
       "      <td>bbd</td>\n",
       "    </tr>\n",
       "  </tbody>\n",
       "</table>\n",
       "</div>"
      ],
      "text/plain": [
       "  left right\n",
       "0  aaa   osr\n",
       "1  aaz   mqw\n",
       "2  abh   cdx\n",
       "3  abn   uzp\n",
       "4  abq   bbd"
      ]
     },
     "execution_count": 3,
     "metadata": {},
     "output_type": "execute_result"
    }
   ],
   "source": [
    "df=pd.read_csv(\"train.csv\")\n",
    "df.head()"
   ]
  },
  {
   "cell_type": "code",
   "execution_count": 4,
   "metadata": {
    "id": "YnM2WZzbdqiy"
   },
   "outputs": [
    {
     "name": "stdout",
     "output_type": "stream",
     "text": [
      "Number of samples:  2000\n"
     ]
    }
   ],
   "source": [
    "print(\"Number of samples: \",len(df))"
   ]
  },
  {
   "cell_type": "code",
   "execution_count": 5,
   "metadata": {
    "id": "pBgnKKzbgp1D"
   },
   "outputs": [],
   "source": [
    "# sns.distplot(df.has_cactus)"
   ]
  },
  {
   "cell_type": "code",
   "execution_count": 6,
   "metadata": {
    "id": "iPsdmIKNgu4H"
   },
   "outputs": [],
   "source": [
    "from PIL import Image\n",
    "from skimage.transform import resize\n",
    "import random"
   ]
  },
  {
   "cell_type": "code",
   "execution_count": 7,
   "metadata": {},
   "outputs": [
    {
     "name": "stdout",
     "output_type": "stream",
     "text": [
      "2000\n"
     ]
    }
   ],
   "source": [
    "import os\n",
    "\n",
    "# 指定你想要列出文件的目录路径\n",
    "directory_path = 'train/right'\n",
    "\n",
    "# 使用os.listdir()获取目录中的所有文件和子目录名\n",
    "all_items = os.listdir(directory_path)\n",
    "\n",
    "# 过滤出只是文件的名字，不包括子目录\n",
    "file_names = [item for item in all_items if os.path.isfile(os.path.join(directory_path, item))]\n",
    "\n",
    "print(len(file_names))"
   ]
  },
  {
   "cell_type": "code",
   "execution_count": 8,
   "metadata": {},
   "outputs": [],
   "source": [
    "train_data = []\n",
    "for i in range(2000):\n",
    "    temp = []\n",
    "    right_list = []\n",
    "    left_path = df.left[i] + '.jpg'\n",
    "    right_path = df.right[i] +'.jpg'\n",
    "    temp.append(left_path)\n",
    "    temp.append(right_path)\n",
    "    right_list.append(right_path)\n",
    "    temp.append(0)\n",
    "    train_data.append(temp)\n",
    "    for j in range(4):\n",
    "        temp = []\n",
    "        while True:\n",
    "            right_path = df.right[random.randrange(2000)] +'.jpg'\n",
    "            if right_path not in right_list:\n",
    "                temp.append(left_path)\n",
    "                temp.append(right_path)\n",
    "                right_list.append(right_path)\n",
    "                temp.append(1)\n",
    "                train_data.append(temp)\n",
    "                break"
   ]
  },
  {
   "cell_type": "code",
   "execution_count": 9,
   "metadata": {},
   "outputs": [
    {
     "data": {
      "text/plain": [
       "40000"
      ]
     },
     "execution_count": 9,
     "metadata": {},
     "output_type": "execute_result"
    }
   ],
   "source": [
    "len(train_data)"
   ]
  },
  {
   "cell_type": "code",
   "execution_count": 10,
   "metadata": {},
   "outputs": [
    {
     "data": {
      "text/plain": [
       "[['aaa.jpg', 'osr.jpg', 0],\n",
       " ['aaa.jpg', 'glf.jpg', 1],\n",
       " ['aaa.jpg', 'zhk.jpg', 1],\n",
       " ['aaa.jpg', 'bak.jpg', 1],\n",
       " ['aaa.jpg', 'bkp.jpg', 1],\n",
       " ['aaa.jpg', 'vmi.jpg', 1],\n",
       " ['aaa.jpg', 'erp.jpg', 1],\n",
       " ['aaa.jpg', 'jck.jpg', 1],\n",
       " ['aaa.jpg', 'nut.jpg', 1],\n",
       " ['aaa.jpg', 'rai.jpg', 1],\n",
       " ['aaa.jpg', 'zlf.jpg', 1],\n",
       " ['aaa.jpg', 'mrv.jpg', 1],\n",
       " ['aaa.jpg', 'xzz.jpg', 1],\n",
       " ['aaa.jpg', 'nvo.jpg', 1],\n",
       " ['aaa.jpg', 'xws.jpg', 1],\n",
       " ['aaa.jpg', 'muz.jpg', 1],\n",
       " ['aaa.jpg', 'wdv.jpg', 1],\n",
       " ['aaa.jpg', 'zls.jpg', 1],\n",
       " ['aaa.jpg', 'uzp.jpg', 1],\n",
       " ['aaa.jpg', 'tis.jpg', 1],\n",
       " ['aaz.jpg', 'mqw.jpg', 0],\n",
       " ['aaz.jpg', 'dim.jpg', 1],\n",
       " ['aaz.jpg', 'ocn.jpg', 1],\n",
       " ['aaz.jpg', 'iur.jpg', 1],\n",
       " ['aaz.jpg', 'sos.jpg', 1],\n",
       " ['aaz.jpg', 'zdw.jpg', 1],\n",
       " ['aaz.jpg', 'rcr.jpg', 1],\n",
       " ['aaz.jpg', 'wba.jpg', 1],\n",
       " ['aaz.jpg', 'psa.jpg', 1],\n",
       " ['aaz.jpg', 'uds.jpg', 1],\n",
       " ['aaz.jpg', 'kkt.jpg', 1],\n",
       " ['aaz.jpg', 'odn.jpg', 1],\n",
       " ['aaz.jpg', 'vos.jpg', 1],\n",
       " ['aaz.jpg', 'nhy.jpg', 1],\n",
       " ['aaz.jpg', 'dvz.jpg', 1],\n",
       " ['aaz.jpg', 'abv.jpg', 1],\n",
       " ['aaz.jpg', 'qvz.jpg', 1],\n",
       " ['aaz.jpg', 'vpt.jpg', 1],\n",
       " ['aaz.jpg', 'bua.jpg', 1],\n",
       " ['aaz.jpg', 'npm.jpg', 1],\n",
       " ['abh.jpg', 'cdx.jpg', 0],\n",
       " ['abh.jpg', 'dim.jpg', 1],\n",
       " ['abh.jpg', 'dzc.jpg', 1],\n",
       " ['abh.jpg', 'jgn.jpg', 1],\n",
       " ['abh.jpg', 'qia.jpg', 1],\n",
       " ['abh.jpg', 'zne.jpg', 1],\n",
       " ['abh.jpg', 'zkk.jpg', 1],\n",
       " ['abh.jpg', 'pma.jpg', 1],\n",
       " ['abh.jpg', 'sej.jpg', 1],\n",
       " ['abh.jpg', 'rfj.jpg', 1]]"
      ]
     },
     "execution_count": 10,
     "metadata": {},
     "output_type": "execute_result"
    }
   ],
   "source": [
    "train_data[:50]"
   ]
  },
  {
   "cell_type": "code",
   "execution_count": 11,
   "metadata": {},
   "outputs": [],
   "source": [
    "class ProjectDataGenerator(Sequence):\n",
    "    def __init__(self, root_path, data_list, datagen, target_size=(80,98), batch_size=32, shuffle=True):\n",
    "        self.root_path = root_path\n",
    "        self.data_list = data_list\n",
    "        self.datagen = datagen\n",
    "        self.target_size = target_size\n",
    "        self.batch_size = batch_size\n",
    "        self.shuffle = shuffle\n",
    "        self.indices = np.arange(len(self.data_list))\n",
    "        if self.shuffle:\n",
    "            np.random.shuffle(self.indices)\n",
    "\n",
    "    def __len__(self):\n",
    "        return int(np.ceil(len(self.data_list) / float(self.batch_size)))\n",
    "\n",
    "    def __getitem__(self, idx):\n",
    "        batch_indices = self.indices[idx * self.batch_size:(idx + 1) * self.batch_size]\n",
    "        batch_data = [self.data_list[i] for i in batch_indices]\n",
    "        \n",
    "        batch_images_1 = []\n",
    "        batch_images_2 = []\n",
    "        batch_labels = []\n",
    "\n",
    "        for data in batch_data:\n",
    "            img1_path, img2_path, label = data\n",
    "            img1 = image.load_img(self.root_path+'/left/'+img1_path, target_size=self.target_size, color_mode = \"grayscale\")\n",
    "            img2 = image.load_img(self.root_path+'/right/'+img2_path, target_size=self.target_size, color_mode = \"grayscale\")\n",
    "\n",
    "            x1 = image.img_to_array(img1)\n",
    "            x2 = image.img_to_array(img2)\n",
    "\n",
    "            # Apply data augmentation\n",
    "            x1 = self.datagen.random_transform(x1)\n",
    "            x2 = self.datagen.random_transform(x2)\n",
    "\n",
    "            batch_images_1.append(x1)\n",
    "            batch_images_2.append(x2)\n",
    "            batch_labels.append(label)\n",
    "\n",
    "        return [np.array(batch_images_1), np.array(batch_images_2)], np.array(batch_labels)\n",
    "\n",
    "    def on_epoch_end(self):\n",
    "        if self.shuffle:\n",
    "            np.random.shuffle(self.indices)"
   ]
  },
  {
   "cell_type": "code",
   "execution_count": 12,
   "metadata": {},
   "outputs": [],
   "source": [
    "train_datagen = ImageDataGenerator(\n",
    "    rescale=1./255,\n",
    "    # rotation_range=40,        # Randomly rotate images in the range (degrees, 0 to 180)\n",
    "    # width_shift_range=0.2,   # Randomly shift images horizontally (fraction of total width)\n",
    "    # height_shift_range=0.2,  # Randomly shift images vertically (fraction of total height)\n",
    "    # shear_range=0.2,         # Randomly apply shearing transformations\n",
    "    # zoom_range=0.2,          # Randomly zoom inside pictures\n",
    "    # horizontal_flip=True,    # Randomly flip half of the images horizontally\n",
    "    # fill_mode='nearest'      # Strategy used for filling in newly created pixels\n",
    ")\n",
    "train_root = 'train'\n",
    "train_generator = ProjectDataGenerator(train_root, train_data, train_datagen, batch_size=32, shuffle = True)"
   ]
  },
  {
   "cell_type": "code",
   "execution_count": 13,
   "metadata": {
    "id": "F4uhJC9mgp3t"
   },
   "outputs": [
    {
     "name": "stdout",
     "output_type": "stream",
     "text": [
      "(80, 98, 1)\n"
     ]
    },
    {
     "data": {
      "image/png": "[encoded data removed]",
      "text/plain": [
       "<Figure size 432x288 with 10 Axes>"
      ]
     },
     "metadata": {
      "needs_background": "light"
     },
     "output_type": "display_data"
    }
   ],
   "source": [
    "data = train_generator[0]  # 这实际上是调用__getitem__方法的另一种方式\n",
    "images, labels = data\n",
    "images_1, images_2 = images\n",
    "\n",
    "print(images_1[0].shape)\n",
    "\n",
    "for i in range(5):  # 显示前5张图片作为示例\n",
    "    plt.subplot(2, 5, i+1)\n",
    "    plt.imshow(images_1[i].astype('uint8'))\n",
    "    plt.title(f\"Label: {labels[i]}\")\n",
    "    plt.axis('off')\n",
    "\n",
    "# 显示Batch Images 2中的前几张图片\n",
    "for i in range(5):\n",
    "    plt.subplot(2, 5, i+6)\n",
    "    plt.imshow(images_2[i].astype('uint8'))\n",
    "    plt.title(f\"Label: {labels[i]}\")\n",
    "    plt.axis('off')\n",
    "\n",
    "plt.tight_layout()\n",
    "plt.show()"
   ]
  },
  {
   "cell_type": "code",
   "execution_count": 14,
   "metadata": {
    "id": "lvkvWlrugqFb"
   },
   "outputs": [],
   "source": [
    "def create_base_network(input_shape):\n",
    "    input = Input(shape=input_shape)\n",
    "    \n",
    "    # 第一个卷积-池化块\n",
    "    x = Conv2D(32, (3,3), activation='relu', padding='same', kernel_initializer=HeNormal())(input)\n",
    "    x = BatchNormalization()(x)\n",
    "    x = MaxPooling2D((2,2))(x)\n",
    "    x = Dropout(0.25)(x)\n",
    "    \n",
    "    # 第二个卷积-池化块\n",
    "    x = Conv2D(64, (3,3), activation='relu', padding='same', kernel_initializer=HeNormal())(x)\n",
    "    x = BatchNormalization()(x)\n",
    "    x = MaxPooling2D((2,2))(x)\n",
    "    x = Dropout(0.25)(x)\n",
    "    \n",
    "    # 第三个卷积-池化块\n",
    "    x = Conv2D(128, (3,3), activation='relu', padding='same', kernel_initializer=HeNormal())(x)\n",
    "    x = BatchNormalization()(x)\n",
    "    x = MaxPooling2D((2,2))(x)\n",
    "    x = Dropout(0.25)(x)\n",
    "    \n",
    "    # 全连接层\n",
    "    x = Flatten()(x)\n",
    "    x = Dense(256, activation='relu', kernel_initializer=HeNormal())(x)\n",
    "    x = BatchNormalization()(x)\n",
    "    x = Dropout(0.5)(x)\n",
    "    \n",
    "    x = Dense(128, activation='relu', kernel_initializer=HeNormal())(x)\n",
    "    x = BatchNormalization()(x)\n",
    "    x = Dropout(0.5)(x)\n",
    "    \n",
    "    return Model(input, x)"
   ]
  },
  {
   "cell_type": "code",
   "execution_count": 15,
   "metadata": {
    "id": "t4sbjrA9gqHm"
   },
   "outputs": [],
   "source": [
    "# 计算欧几里得距离\n",
    "def euclidean_distance(vects):\n",
    "    x, y = vects\n",
    "    sum_square = tf.reduce_sum(tf.square(x - y), axis=1, keepdims=True)\n",
    "    return tf.sqrt(tf.maximum(sum_square, tf.keras.backend.epsilon()))"
   ]
  },
  {
   "cell_type": "code",
   "execution_count": 16,
   "metadata": {
    "id": "e3inb1LLgqJ5"
   },
   "outputs": [],
   "source": [
    "# 定义孪生网络结构\n",
    "# 从生成器中获取一个批次的数据\n",
    "sample_batch = train_generator[0]\n",
    "sample_images, _ = sample_batch\n",
    "sample_image = sample_images[0][0]  # 获取第一个批次中的第一张图像\n",
    "\n",
    "# 从样本图像中提取输入形状\n",
    "input_shape = sample_image.shape\n",
    "base_network = create_base_network(input_shape)\n",
    "\n",
    "input_a = Input(shape=input_shape)\n",
    "input_b = Input(shape=input_shape)\n",
    "\n",
    "processed_a = base_network(input_a)\n",
    "processed_b = base_network(input_b)\n",
    "\n",
    "distance = Lambda(euclidean_distance)([processed_a, processed_b])\n",
    "\n",
    "model = Model([input_a, input_b], distance)\n"
   ]
  },
  {
   "cell_type": "code",
   "execution_count": 17,
   "metadata": {
    "id": "8bMSP0DFg53H"
   },
   "outputs": [],
   "source": [
    "def contrastive_loss(y_true, y_pred):\n",
    "    y_true = tf.cast(y_true, tf.float32)  # 转换y_true为float32类型\n",
    "    margin = 1\n",
    "    square_pred = tf.square(y_pred)\n",
    "    margin_square = tf.square(tf.maximum(margin - y_pred, 0))\n",
    "    return tf.reduce_mean(y_true * square_pred + (1 - y_true) * margin_square)"
   ]
  },
  {
   "cell_type": "code",
   "execution_count": 18,
   "metadata": {
    "id": "2UFSTmCsg55S"
   },
   "outputs": [],
   "source": [
    "model.compile(optimizer=Adam(learning_rate=0.001), loss=contrastive_loss)"
   ]
  },
  {
   "cell_type": "code",
   "execution_count": 19,
   "metadata": {
    "id": "x5guU24Tg57l"
   },
   "outputs": [
    {
     "name": "stdout",
     "output_type": "stream",
     "text": [
      "Epoch 1/5\n",
      "1250/1250 [==============================] - 414s 330ms/step - loss: 164.5600\n",
      "Epoch 2/5\n",
      "1250/1250 [==============================] - 409s 327ms/step - loss: 3.0587\n",
      "Epoch 3/5\n",
      "1250/1250 [==============================] - 407s 325ms/step - loss: 0.0486\n",
      "Epoch 4/5\n",
      "1250/1250 [==============================] - 407s 325ms/step - loss: 0.0476\n",
      "Epoch 5/5\n",
      "1250/1250 [==============================] - 414s 331ms/step - loss: 0.0476\n"
     ]
    },
    {
     "data": {
      "text/plain": [
       "<keras.callbacks.History at 0x286dabfd3d0>"
      ]
     },
     "execution_count": 19,
     "metadata": {},
     "output_type": "execute_result"
    }
   ],
   "source": [
    "# 训练模型\n",
    "model.fit(train_generator, epochs=5, steps_per_epoch=len(train_generator))"
   ]
  },
  {
   "cell_type": "code",
   "execution_count": 20,
   "metadata": {
    "id": "dRE6tGrAg592"
   },
   "outputs": [],
   "source": [
    "# distances = model.predict([np.repeat(test_images[0:1], len(train_images), axis=0), train_images])\n",
    "# closest_index = np.argmin(distances)"
   ]
  },
  {
   "cell_type": "code",
   "execution_count": 21,
   "metadata": {
    "id": "ZRIBTyX4gqMW"
   },
   "outputs": [],
   "source": [
    "test_pair=pd.read_csv(\"test_candidates.csv\")\n",
    "test_data = []\n",
    "for i in range(len(test_pair)):\n",
    "    left_path = test_pair.left[i] + '.jpg'\n",
    "    for j in (test_pair.loc[i,\"c0\":\"c19\"]):\n",
    "        temp = []\n",
    "        right_path = j + '.jpg'\n",
    "        temp.append(left_path)\n",
    "        temp.append(right_path)\n",
    "        temp.append(0)\n",
    "        test_data.append(temp)"
   ]
  },
  {
   "cell_type": "code",
   "execution_count": 22,
   "metadata": {},
   "outputs": [
    {
     "data": {
      "text/plain": [
       "[['abm.jpg', 'kyr.jpg', 0],\n",
       " ['abm.jpg', 'qqo.jpg', 0],\n",
       " ['abm.jpg', 'xpv.jpg', 0],\n",
       " ['abm.jpg', 'tnd.jpg', 0],\n",
       " ['abm.jpg', 'xal.jpg', 0],\n",
       " ['abm.jpg', 'pvr.jpg', 0],\n",
       " ['abm.jpg', 'nsb.jpg', 0],\n",
       " ['abm.jpg', 'yzv.jpg', 0],\n",
       " ['abm.jpg', 'ahb.jpg', 0],\n",
       " ['abm.jpg', 'mlm.jpg', 0],\n",
       " ['abm.jpg', 'drb.jpg', 0],\n",
       " ['abm.jpg', 'vqu.jpg', 0],\n",
       " ['abm.jpg', 'vzr.jpg', 0],\n",
       " ['abm.jpg', 'kxe.jpg', 0],\n",
       " ['abm.jpg', 'mdq.jpg', 0],\n",
       " ['abm.jpg', 'oai.jpg', 0],\n",
       " ['abm.jpg', 'nmm.jpg', 0],\n",
       " ['abm.jpg', 'yzu.jpg', 0],\n",
       " ['abm.jpg', 'ihk.jpg', 0],\n",
       " ['abm.jpg', 'zwv.jpg', 0],\n",
       " ['aci.jpg', 'jzn.jpg', 0],\n",
       " ['aci.jpg', 'hxw.jpg', 0],\n",
       " ['aci.jpg', 'iaj.jpg', 0],\n",
       " ['aci.jpg', 'edq.jpg', 0],\n",
       " ['aci.jpg', 'huu.jpg', 0],\n",
       " ['aci.jpg', 'huk.jpg', 0],\n",
       " ['aci.jpg', 'owo.jpg', 0],\n",
       " ['aci.jpg', 'ntd.jpg', 0],\n",
       " ['aci.jpg', 'uhk.jpg', 0],\n",
       " ['aci.jpg', 'ojv.jpg', 0],\n",
       " ['aci.jpg', 'mhg.jpg', 0],\n",
       " ['aci.jpg', 'exb.jpg', 0],\n",
       " ['aci.jpg', 'pny.jpg', 0],\n",
       " ['aci.jpg', 'kbo.jpg', 0],\n",
       " ['aci.jpg', 'tdb.jpg', 0],\n",
       " ['aci.jpg', 'sok.jpg', 0],\n",
       " ['aci.jpg', 'zsq.jpg', 0],\n",
       " ['aci.jpg', 'yfg.jpg', 0],\n",
       " ['aci.jpg', 'iqx.jpg', 0],\n",
       " ['aci.jpg', 'jnj.jpg', 0]]"
      ]
     },
     "execution_count": 22,
     "metadata": {},
     "output_type": "execute_result"
    }
   ],
   "source": [
    "test_data[0:40]"
   ]
  },
  {
   "cell_type": "code",
   "execution_count": 23,
   "metadata": {},
   "outputs": [],
   "source": [
    "# 创建一个没有数据增强的ImageDataGenerator实例\n",
    "test_datagen = ImageDataGenerator(rescale=1./255)\n",
    "\n",
    "# 使用ProjectDataGenerator为测试数据创建数据生成器\n",
    "test_root = 'test'  # 如果你的测试数据在不同的目录，请更改此路径\n",
    "test_generator = ProjectDataGenerator(test_root, test_data, test_datagen, batch_size=32, shuffle=False)"
   ]
  },
  {
   "cell_type": "code",
   "execution_count": 24,
   "metadata": {},
   "outputs": [
    {
     "data": {
      "image/png": "[encoded data removed]",
      "text/plain": [
       "<Figure size 432x288 with 10 Axes>"
      ]
     },
     "metadata": {
      "needs_background": "light"
     },
     "output_type": "display_data"
    }
   ],
   "source": [
    "data = test_generator[0]  # 这实际上是调用__getitem__方法的另一种方式\n",
    "images, labels = data\n",
    "images_1, images_2 = images\n",
    "\n",
    "for i in range(5):  # 显示前5张图片作为示例\n",
    "    plt.subplot(2, 5, i+1)\n",
    "    plt.imshow(images_1[i].astype('uint8'))\n",
    "    plt.title(f\"Label: {labels[i]}\")\n",
    "    plt.axis('off')\n",
    "\n",
    "# 显示Batch Images 2中的前几张图片\n",
    "for i in range(5):\n",
    "    plt.subplot(2, 5, i+6)\n",
    "    plt.imshow(images_2[i].astype('uint8'))\n",
    "    plt.title(f\"Label: {labels[i]}\")\n",
    "    plt.axis('off')\n",
    "\n",
    "plt.tight_layout()\n",
    "plt.show()"
   ]
  },
  {
   "cell_type": "code",
   "execution_count": 25,
   "metadata": {},
   "outputs": [
    {
     "name": "stdout",
     "output_type": "stream",
     "text": [
      "1250/1250 [==============================] - 124s 99ms/step\n"
     ]
    }
   ],
   "source": [
    "predictions = model.predict(test_generator, steps=len(test_generator))"
   ]
  },
  {
   "cell_type": "code",
   "execution_count": 26,
   "metadata": {},
   "outputs": [
    {
     "name": "stdout",
     "output_type": "stream",
     "text": [
      "40000\n"
     ]
    }
   ],
   "source": [
    "print(len(predictions))"
   ]
  },
  {
   "cell_type": "code",
   "execution_count": 27,
   "metadata": {},
   "outputs": [
    {
     "name": "stdout",
     "output_type": "stream",
     "text": [
      "[[0.01745464]\n",
      " [0.01096785]\n",
      " [0.00436565]\n",
      " [0.01785473]\n",
      " [0.01692547]\n",
      " [0.01741272]\n",
      " [0.02416979]\n",
      " [0.01631056]\n",
      " [0.01438215]\n",
      " [0.01850895]\n",
      " [0.0170766 ]\n",
      " [0.01902147]\n",
      " [0.01716492]\n",
      " [0.00957525]\n",
      " [0.01094875]\n",
      " [0.00539749]\n",
      " [0.01672098]\n",
      " [0.01734372]\n",
      " [0.01850937]\n",
      " [0.00992345]\n",
      " [0.00424426]\n",
      " [0.01236376]\n",
      " [0.00756491]\n",
      " [0.01173136]\n",
      " [0.00479611]\n",
      " [0.00799396]\n",
      " [0.00980345]\n",
      " [0.00731847]\n",
      " [0.00969287]\n",
      " [0.00895166]\n",
      " [0.02215667]\n",
      " [0.00843061]\n",
      " [0.00603915]\n",
      " [0.00926838]\n",
      " [0.00595335]\n",
      " [0.01534376]\n",
      " [0.01023782]\n",
      " [0.01076846]\n",
      " [0.01114081]\n",
      " [0.00910379]\n",
      " [0.01038909]\n",
      " [0.01503772]\n",
      " [0.01234163]\n",
      " [0.01505183]\n",
      " [0.01631731]\n",
      " [0.00531543]\n",
      " [0.0069583 ]\n",
      " [0.00728252]\n",
      " [0.01433459]\n",
      " [0.00830612]\n",
      " [0.00907391]\n",
      " [0.01241053]\n",
      " [0.00691905]\n",
      " [0.02264023]\n",
      " [0.00952251]\n",
      " [0.01201638]\n",
      " [0.00793976]\n",
      " [0.00637314]\n",
      " [0.00769804]\n",
      " [0.01419626]\n",
      " [0.00790634]\n",
      " [0.00433552]\n",
      " [0.00969514]\n",
      " [0.00497881]\n",
      " [0.01016663]\n",
      " [0.01482431]\n",
      " [0.01728965]\n",
      " [0.01480633]\n",
      " [0.01354172]\n",
      " [0.00910993]\n",
      " [0.00950713]\n",
      " [0.01264511]\n",
      " [0.01145978]\n",
      " [0.00776631]\n",
      " [0.01017553]\n",
      " [0.0123194 ]\n",
      " [0.0132877 ]\n",
      " [0.01100228]\n",
      " [0.01112755]\n",
      " [0.01467024]\n",
      " [0.0089275 ]\n",
      " [0.00370754]\n",
      " [0.00428362]\n",
      " [0.01107499]\n",
      " [0.00781785]\n",
      " [0.00974869]\n",
      " [0.01170448]\n",
      " [0.00932647]\n",
      " [0.01317262]\n",
      " [0.01187087]\n",
      " [0.00769323]\n",
      " [0.02257297]\n",
      " [0.00928216]\n",
      " [0.01081061]\n",
      " [0.00735016]\n",
      " [0.00816561]\n",
      " [0.00758323]\n",
      " [0.00643876]\n",
      " [0.0064553 ]\n",
      " [0.01329004]\n",
      " [0.01131811]\n",
      " [0.00465009]\n",
      " [0.01181013]\n",
      " [0.00663539]\n",
      " [0.00873039]\n",
      " [0.01273811]\n",
      " [0.01353684]\n",
      " [0.01492985]\n",
      " [0.00977481]\n",
      " [0.01570696]\n",
      " [0.01529297]\n",
      " [0.00715745]\n",
      " [0.13375326]\n",
      " [0.00897955]\n",
      " [0.01740126]\n",
      " [0.01287942]\n",
      " [0.10867216]\n",
      " [0.00489617]\n",
      " [0.01393934]\n",
      " [0.01504074]\n",
      " [0.01223892]\n",
      " [0.01679459]\n",
      " [0.01345551]\n",
      " [0.00877986]\n",
      " [0.02158989]\n",
      " [0.01086492]\n",
      " [0.00653951]\n",
      " [0.01356643]\n",
      " [0.01318271]\n",
      " [0.01442189]\n",
      " [0.01211415]\n",
      " [0.00635791]\n",
      " [0.00703574]\n",
      " [0.01871901]\n",
      " [0.01127735]\n",
      " [0.01177978]\n",
      " [0.01517976]\n",
      " [0.00852568]\n",
      " [0.01431717]\n",
      " [0.01685166]\n",
      " [0.0211098 ]\n",
      " [0.01128523]\n",
      " [0.00924729]\n",
      " [0.01675831]\n",
      " [0.0085524 ]\n",
      " [0.01281048]\n",
      " [0.01198206]\n",
      " [0.02243165]\n",
      " [0.01079055]\n",
      " [0.01933707]\n",
      " [0.01214265]\n",
      " [0.00865563]\n",
      " [0.01965849]\n",
      " [0.02382122]\n",
      " [0.01715502]\n",
      " [0.01214634]\n",
      " [0.01323286]\n",
      " [0.00987256]\n",
      " [0.0137675 ]\n",
      " [0.01323353]\n",
      " [0.01387601]\n",
      " [0.00879942]\n",
      " [0.01087519]\n",
      " [0.0101229 ]\n",
      " [0.01242287]\n",
      " [0.01173829]\n",
      " [0.01000801]\n",
      " [0.01308876]\n",
      " [0.01197509]\n",
      " [0.01048644]\n",
      " [0.0098839 ]\n",
      " [0.00957926]\n",
      " [0.00925524]\n",
      " [0.01232392]\n",
      " [0.00953429]\n",
      " [0.01081765]\n",
      " [0.014163  ]\n",
      " [0.0096877 ]\n",
      " [0.01242025]\n",
      " [0.01596007]\n",
      " [0.01843123]\n",
      " [0.01278371]\n",
      " [0.00593042]\n",
      " [0.02039387]\n",
      " [0.00846749]\n",
      " [0.00616847]\n",
      " [0.00973191]\n",
      " [0.0122781 ]\n",
      " [0.01729984]\n",
      " [0.02343905]\n",
      " [0.0142575 ]\n",
      " [0.01321299]\n",
      " [0.01534831]\n",
      " [0.01651925]\n",
      " [0.01057179]\n",
      " [0.01313284]\n",
      " [0.01122345]\n",
      " [0.01664102]\n",
      " [0.01027439]\n",
      " [0.01089478]]\n"
     ]
    }
   ],
   "source": [
    "print(predictions[:200])"
   ]
  },
  {
   "cell_type": "code",
   "execution_count": null,
   "metadata": {},
   "outputs": [],
   "source": []
  }
 ],
 "metadata": {
  "colab": {
   "provenance": []
  },
  "kernelspec": {
   "display_name": "Python 3 (ipykernel)",
   "language": "python",
   "name": "python3"
  },
  "language_info": {
   "codemirror_mode": {
    "name": "ipython",
    "version": 3
   },
   "file_extension": ".py",
   "mimetype": "text/x-python",
   "name": "python",
   "nbconvert_exporter": "python",
   "pygments_lexer": "ipython3",
   "version": "3.9.7"
  }
 },
 "nbformat": 4,
 "nbformat_minor": 4
}
