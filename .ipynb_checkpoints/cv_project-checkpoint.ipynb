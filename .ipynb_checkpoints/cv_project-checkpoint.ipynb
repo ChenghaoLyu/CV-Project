{
 "cells": [
  {
   "cell_type": "code",
   "execution_count": 1,
   "metadata": {
    "id": "Infmy7IAcLon"
   },
   "outputs": [
    {
     "name": "stderr",
     "output_type": "stream",
     "text": [
      "D:\\Apps\\ana\\lib\\site-packages\\scipy\\__init__.py:146: UserWarning: A NumPy version >=1.16.5 and <1.23.0 is required for this version of SciPy (detected version 1.26.0\n",
      "  warnings.warn(f\"A NumPy version >={np_minversion} and <{np_maxversion}\"\n"
     ]
    }
   ],
   "source": [
    "from keras.preprocessing.image import ImageDataGenerator\n",
    "from keras.utils import Sequence\n",
    "from keras.models import Sequential\n",
    "from keras.layers import Conv2D, MaxPooling2D, Flatten, Dense\n",
    "from keras.optimizers import Adam\n",
    "import cv2\n",
    "import numpy as np # linear algebra\n",
    "import pandas as pd # data processing, CSV file I/O (e.g. pd.read_csv)\n",
    "import matplotlib.pyplot as plt\n",
    "from PIL import Image\n",
    "# Input data files are available in the \"../input/\" directory.\n",
    "# For example, running this (by clicking run or pressing Shift+Enter) will list the files in the input directory\n",
    "import seaborn as sns\n",
    "import os\n",
    "# Any results you write to the current directory are saved as output."
   ]
  },
  {
   "cell_type": "code",
   "execution_count": 2,
   "metadata": {},
   "outputs": [],
   "source": [
    "import numpy as np\n",
    "import tensorflow as tf\n",
    "from tensorflow.keras.models import Model\n",
    "from tensorflow.keras.layers import Input, Dense, Flatten, Lambda\n",
    "from tensorflow.keras.optimizers import Adam\n",
    "from tensorflow.keras.datasets import mnist\n",
    "from tensorflow.keras.preprocessing import image\n"
   ]
  },
  {
   "cell_type": "code",
   "execution_count": 3,
   "metadata": {
    "id": "buIfQ36HchmR"
   },
   "outputs": [
    {
     "data": {
      "text/html": [
       "<div>\n",
       "<style scoped>\n",
       "    .dataframe tbody tr th:only-of-type {\n",
       "        vertical-align: middle;\n",
       "    }\n",
       "\n",
       "    .dataframe tbody tr th {\n",
       "        vertical-align: top;\n",
       "    }\n",
       "\n",
       "    .dataframe thead th {\n",
       "        text-align: right;\n",
       "    }\n",
       "</style>\n",
       "<table border=\"1\" class=\"dataframe\">\n",
       "  <thead>\n",
       "    <tr style=\"text-align: right;\">\n",
       "      <th></th>\n",
       "      <th>left</th>\n",
       "      <th>right</th>\n",
       "    </tr>\n",
       "  </thead>\n",
       "  <tbody>\n",
       "    <tr>\n",
       "      <th>0</th>\n",
       "      <td>aaa</td>\n",
       "      <td>osr</td>\n",
       "    </tr>\n",
       "    <tr>\n",
       "      <th>1</th>\n",
       "      <td>aaz</td>\n",
       "      <td>mqw</td>\n",
       "    </tr>\n",
       "    <tr>\n",
       "      <th>2</th>\n",
       "      <td>abh</td>\n",
       "      <td>cdx</td>\n",
       "    </tr>\n",
       "    <tr>\n",
       "      <th>3</th>\n",
       "      <td>abn</td>\n",
       "      <td>uzp</td>\n",
       "    </tr>\n",
       "    <tr>\n",
       "      <th>4</th>\n",
       "      <td>abq</td>\n",
       "      <td>bbd</td>\n",
       "    </tr>\n",
       "  </tbody>\n",
       "</table>\n",
       "</div>"
      ],
      "text/plain": [
       "  left right\n",
       "0  aaa   osr\n",
       "1  aaz   mqw\n",
       "2  abh   cdx\n",
       "3  abn   uzp\n",
       "4  abq   bbd"
      ]
     },
     "execution_count": 3,
     "metadata": {},
     "output_type": "execute_result"
    }
   ],
   "source": [
    "df=pd.read_csv(\"train.csv\")\n",
    "df.head()"
   ]
  },
  {
   "cell_type": "code",
   "execution_count": 4,
   "metadata": {
    "id": "YnM2WZzbdqiy"
   },
   "outputs": [
    {
     "name": "stdout",
     "output_type": "stream",
     "text": [
      "Number of samples:  2000\n"
     ]
    }
   ],
   "source": [
    "print(\"Number of samples: \",len(df))"
   ]
  },
  {
   "cell_type": "code",
   "execution_count": 5,
   "metadata": {
    "id": "pBgnKKzbgp1D"
   },
   "outputs": [],
   "source": [
    "# sns.distplot(df.has_cactus)"
   ]
  },
  {
   "cell_type": "code",
   "execution_count": 6,
   "metadata": {
    "id": "iPsdmIKNgu4H"
   },
   "outputs": [],
   "source": [
    "from PIL import Image\n",
    "from skimage.transform import resize\n",
    "import random"
   ]
  },
  {
   "cell_type": "code",
   "execution_count": 7,
   "metadata": {},
   "outputs": [
    {
     "name": "stdout",
     "output_type": "stream",
     "text": [
      "2000\n"
     ]
    }
   ],
   "source": [
    "import os\n",
    "\n",
    "# 指定你想要列出文件的目录路径\n",
    "directory_path = 'train/right'\n",
    "\n",
    "# 使用os.listdir()获取目录中的所有文件和子目录名\n",
    "all_items = os.listdir(directory_path)\n",
    "\n",
    "# 过滤出只是文件的名字，不包括子目录\n",
    "file_names = [item for item in all_items if os.path.isfile(os.path.join(directory_path, item))]\n",
    "\n",
    "print(len(file_names))"
   ]
  },
  {
   "cell_type": "code",
   "execution_count": 8,
   "metadata": {},
   "outputs": [],
   "source": [
    "train_data = []\n",
    "for i in range(2000):\n",
    "    temp = []\n",
    "    right_list = []\n",
    "    left_path = df.left[i] + '.jpg'\n",
    "    right_path = df.right[i] +'.jpg'\n",
    "    temp.append(left_path)\n",
    "    temp.append(right_path)\n",
    "    right_list.append(right_path)\n",
    "    temp.append(0)\n",
    "    train_data.append(temp)\n",
    "    for j in range(19):\n",
    "        temp = []\n",
    "        while True:\n",
    "            right_path = df.right[random.randrange(2000)] +'.jpg'\n",
    "            if right_path not in right_list:\n",
    "                temp.append(left_path)\n",
    "                temp.append(right_path)\n",
    "                right_list.append(right_path)\n",
    "                temp.append(1)\n",
    "                train_data.append(temp)\n",
    "                break"
   ]
  },
  {
   "cell_type": "code",
   "execution_count": 9,
   "metadata": {},
   "outputs": [
    {
     "data": {
      "text/plain": [
       "40000"
      ]
     },
     "execution_count": 9,
     "metadata": {},
     "output_type": "execute_result"
    }
   ],
   "source": [
    "len(train_data)"
   ]
  },
  {
   "cell_type": "code",
   "execution_count": 10,
   "metadata": {},
   "outputs": [
    {
     "data": {
      "text/plain": [
       "[['aaa.jpg', 'osr.jpg', 1],\n",
       " ['aaa.jpg', 'nrp.jpg', 0],\n",
       " ['aaa.jpg', 'eso.jpg', 0],\n",
       " ['aaa.jpg', 'pnn.jpg', 0],\n",
       " ['aaa.jpg', 'ycq.jpg', 0],\n",
       " ['aaa.jpg', 'ydx.jpg', 0],\n",
       " ['aaa.jpg', 'itf.jpg', 0],\n",
       " ['aaa.jpg', 'mko.jpg', 0],\n",
       " ['aaa.jpg', 'nxy.jpg', 0],\n",
       " ['aaa.jpg', 'bud.jpg', 0],\n",
       " ['aaa.jpg', 'wkm.jpg', 0],\n",
       " ['aaa.jpg', 'pic.jpg', 0],\n",
       " ['aaa.jpg', 'wtb.jpg', 0],\n",
       " ['aaa.jpg', 'xfh.jpg', 0],\n",
       " ['aaa.jpg', 'lxv.jpg', 0],\n",
       " ['aaa.jpg', 'wev.jpg', 0],\n",
       " ['aaa.jpg', 'tmy.jpg', 0],\n",
       " ['aaa.jpg', 'wej.jpg', 0],\n",
       " ['aaa.jpg', 'jcx.jpg', 0],\n",
       " ['aaa.jpg', 'qsu.jpg', 0],\n",
       " ['aaz.jpg', 'mqw.jpg', 1],\n",
       " ['aaz.jpg', 'vay.jpg', 0],\n",
       " ['aaz.jpg', 'ere.jpg', 0],\n",
       " ['aaz.jpg', 'acc.jpg', 0],\n",
       " ['aaz.jpg', 'xjj.jpg', 0],\n",
       " ['aaz.jpg', 'epo.jpg', 0],\n",
       " ['aaz.jpg', 'bii.jpg', 0],\n",
       " ['aaz.jpg', 'dla.jpg', 0],\n",
       " ['aaz.jpg', 'boy.jpg', 0],\n",
       " ['aaz.jpg', 'pic.jpg', 0],\n",
       " ['aaz.jpg', 'sve.jpg', 0],\n",
       " ['aaz.jpg', 'dhn.jpg', 0],\n",
       " ['aaz.jpg', 'rsk.jpg', 0],\n",
       " ['aaz.jpg', 'wjv.jpg', 0],\n",
       " ['aaz.jpg', 'vob.jpg', 0],\n",
       " ['aaz.jpg', 'tbd.jpg', 0],\n",
       " ['aaz.jpg', 'ujp.jpg', 0],\n",
       " ['aaz.jpg', 'dyp.jpg', 0],\n",
       " ['aaz.jpg', 'nbi.jpg', 0],\n",
       " ['aaz.jpg', 'yrv.jpg', 0],\n",
       " ['abh.jpg', 'cdx.jpg', 1],\n",
       " ['abh.jpg', 'bse.jpg', 0],\n",
       " ['abh.jpg', 'dzz.jpg', 0],\n",
       " ['abh.jpg', 'aal.jpg', 0],\n",
       " ['abh.jpg', 'ujz.jpg', 0],\n",
       " ['abh.jpg', 'qia.jpg', 0],\n",
       " ['abh.jpg', 'jbl.jpg', 0],\n",
       " ['abh.jpg', 'qmo.jpg', 0],\n",
       " ['abh.jpg', 'zar.jpg', 0],\n",
       " ['abh.jpg', 'hjv.jpg', 0]]"
      ]
     },
     "execution_count": 10,
     "metadata": {},
     "output_type": "execute_result"
    }
   ],
   "source": [
    "train_data[:50]"
   ]
  },
  {
   "cell_type": "code",
   "execution_count": 11,
   "metadata": {},
   "outputs": [],
   "source": [
    "class ProjectDataGenerator(Sequence):\n",
    "    def __init__(self, root_path, data_list, datagen, target_size=(40,49), batch_size=32, shuffle=True):\n",
    "        self.root_path = root_path\n",
    "        self.data_list = data_list\n",
    "        self.datagen = datagen\n",
    "        self.target_size = target_size\n",
    "        self.batch_size = batch_size\n",
    "        self.shuffle = shuffle\n",
    "        self.indices = np.arange(len(self.data_list))\n",
    "        if self.shuffle:\n",
    "            np.random.shuffle(self.indices)\n",
    "\n",
    "    def __len__(self):\n",
    "        return int(np.ceil(len(self.data_list) / float(self.batch_size)))\n",
    "\n",
    "    def __getitem__(self, idx):\n",
    "        batch_indices = self.indices[idx * self.batch_size:(idx + 1) * self.batch_size]\n",
    "        batch_data = [self.data_list[i] for i in batch_indices]\n",
    "        \n",
    "        batch_images_1 = []\n",
    "        batch_images_2 = []\n",
    "        batch_labels = []\n",
    "\n",
    "        for data in batch_data:\n",
    "            img1_path, img2_path, label = data\n",
    "            img1 = image.load_img(self.root_path+'/left/'+img1_path, target_size=self.target_size)\n",
    "            img2 = image.load_img(self.root_path+'/right/'+img2_path, target_size=self.target_size)\n",
    "\n",
    "            x1 = image.img_to_array(img1)\n",
    "            x2 = image.img_to_array(img2)\n",
    "\n",
    "            # Apply data augmentation\n",
    "            x1 = self.datagen.random_transform(x1)\n",
    "            x2 = self.datagen.random_transform(x2)\n",
    "\n",
    "            batch_images_1.append(x1)\n",
    "            batch_images_2.append(x2)\n",
    "            batch_labels.append(label)\n",
    "\n",
    "        return [np.array(batch_images_1), np.array(batch_images_2)], np.array(batch_labels)\n",
    "\n",
    "    def on_epoch_end(self):\n",
    "        if self.shuffle:\n",
    "            np.random.shuffle(self.indices)"
   ]
  },
  {
   "cell_type": "code",
   "execution_count": 12,
   "metadata": {},
   "outputs": [],
   "source": [
    "train_datagen = ImageDataGenerator(\n",
    "    rescale=1./255,\n",
    "    rotation_range=40,        # Randomly rotate images in the range (degrees, 0 to 180)\n",
    "    width_shift_range=0.2,   # Randomly shift images horizontally (fraction of total width)\n",
    "    height_shift_range=0.2,  # Randomly shift images vertically (fraction of total height)\n",
    "    shear_range=0.2,         # Randomly apply shearing transformations\n",
    "    zoom_range=0.2,          # Randomly zoom inside pictures\n",
    "    horizontal_flip=True,    # Randomly flip half of the images horizontally\n",
    "    fill_mode='nearest'      # Strategy used for filling in newly created pixels\n",
    ")\n",
    "train_root = 'train'\n",
    "train_generator = ProjectDataGenerator(train_root, train_data, train_datagen, batch_size=32, shuffle = True)"
   ]
  },
  {
   "cell_type": "code",
   "execution_count": 13,
   "metadata": {
    "id": "F4uhJC9mgp3t"
   },
   "outputs": [
    {
     "data": {
      "image/png": "[encoded data removed]",
      "text/plain": [
       "<Figure size 432x288 with 10 Axes>"
      ]
     },
     "metadata": {
      "needs_background": "light"
     },
     "output_type": "display_data"
    }
   ],
   "source": [
    "data = train_generator[0]  # 这实际上是调用__getitem__方法的另一种方式\n",
    "images, labels = data\n",
    "images_1, images_2 = images\n",
    "\n",
    "for i in range(5):  # 显示前5张图片作为示例\n",
    "    plt.subplot(2, 5, i+1)\n",
    "    plt.imshow(images_1[i].astype('uint8'))\n",
    "    plt.title(f\"Label: {labels[i]}\")\n",
    "    plt.axis('off')\n",
    "\n",
    "# 显示Batch Images 2中的前几张图片\n",
    "for i in range(5):\n",
    "    plt.subplot(2, 5, i+6)\n",
    "    plt.imshow(images_2[i].astype('uint8'))\n",
    "    plt.title(f\"Label: {labels[i]}\")\n",
    "    plt.axis('off')\n",
    "\n",
    "plt.tight_layout()\n",
    "plt.show()"
   ]
  },
  {
   "cell_type": "code",
   "execution_count": 14,
   "metadata": {
    "id": "lvkvWlrugqFb"
   },
   "outputs": [],
   "source": [
    "def create_base_network(input_shape):\n",
    "    input = Input(shape=input_shape)\n",
    "    x = Flatten()(input)\n",
    "    x = Dense(128, activation='relu')(x)\n",
    "    x = Dense(128, activation='relu')(x)\n",
    "    x = Dense(128, activation='relu')(x)\n",
    "    return Model(input, x)"
   ]
  },
  {
   "cell_type": "code",
   "execution_count": 15,
   "metadata": {
    "id": "t4sbjrA9gqHm"
   },
   "outputs": [],
   "source": [
    "# 计算欧几里得距离\n",
    "def euclidean_distance(vects):\n",
    "    x, y = vects\n",
    "    sum_square = tf.reduce_sum(tf.square(x - y), axis=1, keepdims=True)\n",
    "    return tf.sqrt(tf.maximum(sum_square, tf.keras.backend.epsilon()))"
   ]
  },
  {
   "cell_type": "code",
   "execution_count": 18,
   "metadata": {
    "id": "e3inb1LLgqJ5"
   },
   "outputs": [],
   "source": [
    "# 定义孪生网络结构\n",
    "# 从生成器中获取一个批次的数据\n",
    "sample_batch = train_generator[0]\n",
    "sample_images, _ = sample_batch\n",
    "sample_image = sample_images[0][0]  # 获取第一个批次中的第一张图像\n",
    "\n",
    "# 从样本图像中提取输入形状\n",
    "input_shape = sample_image.shape\n",
    "base_network = create_base_network(input_shape)\n",
    "\n",
    "input_a = Input(shape=input_shape)\n",
    "input_b = Input(shape=input_shape)\n",
    "\n",
    "processed_a = base_network(input_a)\n",
    "processed_b = base_network(input_b)\n",
    "\n",
    "distance = Lambda(euclidean_distance)([processed_a, processed_b])\n",
    "\n",
    "model = Model([input_a, input_b], distance)\n"
   ]
  },
  {
   "cell_type": "code",
   "execution_count": 22,
   "metadata": {
    "id": "8bMSP0DFg53H"
   },
   "outputs": [],
   "source": [
    "def contrastive_loss(y_true, y_pred):\n",
    "    y_true = tf.cast(y_true, tf.float32)  # 转换y_true为float32类型\n",
    "    margin = 1\n",
    "    square_pred = tf.square(y_pred)\n",
    "    margin_square = tf.square(tf.maximum(margin - y_pred, 0))\n",
    "    return tf.reduce_mean(y_true * square_pred + (1 - y_true) * margin_square)"
   ]
  },
  {
   "cell_type": "code",
   "execution_count": 23,
   "metadata": {
    "id": "2UFSTmCsg55S"
   },
   "outputs": [],
   "source": [
    "model.compile(optimizer=Adam(), loss=contrastive_loss)"
   ]
  },
  {
   "cell_type": "code",
   "execution_count": 24,
   "metadata": {
    "id": "x5guU24Tg57l"
   },
   "outputs": [
    {
     "name": "stdout",
     "output_type": "stream",
     "text": [
      "Epoch 1/10\n",
      "1250/1250 [==============================] - 99s 79ms/step - loss: 340.2814\n",
      "Epoch 2/10\n",
      "1250/1250 [==============================] - 100s 80ms/step - loss: 1.6149\n",
      "Epoch 3/10\n",
      "1250/1250 [==============================] - 98s 78ms/step - loss: 1.0692\n",
      "Epoch 4/10\n",
      "1250/1250 [==============================] - 98s 79ms/step - loss: 0.9656\n",
      "Epoch 5/10\n",
      "1250/1250 [==============================] - 98s 78ms/step - loss: 248.5663\n",
      "Epoch 6/10\n",
      "1250/1250 [==============================] - 97s 78ms/step - loss: 0.9494\n",
      "Epoch 7/10\n",
      "1250/1250 [==============================] - 98s 78ms/step - loss: 0.9494\n",
      "Epoch 8/10\n",
      "1250/1250 [==============================] - 101s 81ms/step - loss: 0.9494\n",
      "Epoch 9/10\n",
      "1250/1250 [==============================] - 102s 82ms/step - loss: 0.9494\n",
      "Epoch 10/10\n",
      "1250/1250 [==============================] - 104s 83ms/step - loss: 0.9494\n"
     ]
    },
    {
     "data": {
      "text/plain": [
       "<keras.callbacks.History at 0x237c5163970>"
      ]
     },
     "execution_count": 24,
     "metadata": {},
     "output_type": "execute_result"
    }
   ],
   "source": [
    "# 训练模型\n",
    "model.fit(train_generator, epochs=10, steps_per_epoch=len(train_generator))"
   ]
  },
  {
   "cell_type": "code",
   "execution_count": null,
   "metadata": {
    "id": "dRE6tGrAg592"
   },
   "outputs": [],
   "source": [
    "# distances = model.predict([np.repeat(test_images[0:1], len(train_images), axis=0), train_images])\n",
    "# closest_index = np.argmin(distances)"
   ]
  },
  {
   "cell_type": "code",
   "execution_count": null,
   "metadata": {
    "id": "ZRIBTyX4gqMW"
   },
   "outputs": [],
   "source": [
    "test_pair=pd.read_csv(\"test_candidates.csv\")\n",
    "test_data = []\n",
    "for i in range(len(test_pair)):\n",
    "    left_path = test_pair.left[i] + '.jpg'\n",
    "    for j in (test_pair.loc[i,\"c0\":\"c19\"]):\n",
    "        temp = []\n",
    "        right_path = j + '.jpg'\n",
    "        temp.append(left_path)\n",
    "        temp.append(right_path)\n",
    "        temp.append(0)\n",
    "        test_data.append(temp)"
   ]
  },
  {
   "cell_type": "code",
   "execution_count": null,
   "metadata": {},
   "outputs": [],
   "source": [
    "test_data[0:40]"
   ]
  },
  {
   "cell_type": "code",
   "execution_count": null,
   "metadata": {},
   "outputs": [],
   "source": [
    "# 创建一个没有数据增强的ImageDataGenerator实例\n",
    "test_datagen = ImageDataGenerator(rescale=1./255)\n",
    "\n",
    "# 使用ProjectDataGenerator为测试数据创建数据生成器\n",
    "test_root = 'test'  # 如果你的测试数据在不同的目录，请更改此路径\n",
    "test_generator = ProjectDataGenerator(test_root, test_data, test_datagen, batch_size=32, shuffle=False)"
   ]
  },
  {
   "cell_type": "code",
   "execution_count": null,
   "metadata": {},
   "outputs": [],
   "source": [
    "data = test_generator[0]  # 这实际上是调用__getitem__方法的另一种方式\n",
    "images, labels = data\n",
    "images_1, images_2 = images\n",
    "\n",
    "for i in range(5):  # 显示前5张图片作为示例\n",
    "    plt.subplot(2, 5, i+1)\n",
    "    plt.imshow(images_1[i].astype('uint8'))\n",
    "    plt.title(f\"Label: {labels[i]}\")\n",
    "    plt.axis('off')\n",
    "\n",
    "# 显示Batch Images 2中的前几张图片\n",
    "for i in range(5):\n",
    "    plt.subplot(2, 5, i+6)\n",
    "    plt.imshow(images_2[i].astype('uint8'))\n",
    "    plt.title(f\"Label: {labels[i]}\")\n",
    "    plt.axis('off')\n",
    "\n",
    "plt.tight_layout()\n",
    "plt.show()"
   ]
  },
  {
   "cell_type": "code",
   "execution_count": null,
   "metadata": {},
   "outputs": [],
   "source": [
    "predictions = model.predict(test_generator, steps=len(test_generator))"
   ]
  },
  {
   "cell_type": "code",
   "execution_count": null,
   "metadata": {},
   "outputs": [],
   "source": [
    "print(len(prediction))"
   ]
  },
  {
   "cell_type": "code",
   "execution_count": null,
   "metadata": {},
   "outputs": [],
   "source": [
    "print(prediction[:100])"
   ]
  }
 ],
 "metadata": {
  "colab": {
   "provenance": []
  },
  "kernelspec": {
   "display_name": "Python 3 (ipykernel)",
   "language": "python",
   "name": "python3"
  },
  "language_info": {
   "codemirror_mode": {
    "name": "ipython",
    "version": 3
   },
   "file_extension": ".py",
   "mimetype": "text/x-python",
   "name": "python",
   "nbconvert_exporter": "python",
   "pygments_lexer": "ipython3",
   "version": "3.9.7"
  }
 },
 "nbformat": 4,
 "nbformat_minor": 4
}
