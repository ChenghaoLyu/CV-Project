{
 "cells": [
  {
   "cell_type": "code",
   "execution_count": 1,
   "id": "9fe8b096-c8bb-4f54-82f3-e86643b59096",
   "metadata": {},
   "outputs": [
    {
     "name": "stderr",
     "output_type": "stream",
     "text": [
      "2023-10-15 13:20:55.592302: I tensorflow/core/platform/cpu_feature_guard.cc:193] This TensorFlow binary is optimized with oneAPI Deep Neural Network Library (oneDNN) to use the following CPU instructions in performance-critical operations:  SSE4.1 SSE4.2 AVX AVX2 FMA\n",
      "To enable them in other operations, rebuild TensorFlow with the appropriate compiler flags.\n"
     ]
    }
   ],
   "source": [
    "from keras.preprocessing.image import ImageDataGenerator\n",
    "from keras.utils import Sequence\n",
    "from keras.models import Sequential\n",
    "from keras.layers import Conv2D, MaxPooling2D, Flatten, Dense\n",
    "from keras.optimizers import Adam\n",
    "import cv2\n",
    "import numpy as np # linear algebra\n",
    "import pandas as pd # data processing, CSV file I/O (e.g. pd.read_csv)\n",
    "import matplotlib.pyplot as plt\n",
    "from PIL import Image\n",
    "# Input data files are available in the \"../input/\" directory.\n",
    "# For example, running this (by clicking run or pressing Shift+Enter) will list the files in the input directory\n",
    "import seaborn as sns\n",
    "import os\n",
    "# Any results you write to the current directory are saved as output."
   ]
  },
  {
   "cell_type": "code",
   "execution_count": 2,
   "id": "52913855-a81e-4c5b-91ba-45bea7093cf8",
   "metadata": {},
   "outputs": [],
   "source": [
    "import numpy as np\n",
    "import tensorflow as tf\n",
    "from tensorflow.keras.models import Model\n",
    "from tensorflow.keras.layers import Input, Dense, Flatten, Lambda\n",
    "from tensorflow.keras.optimizers import Adam\n",
    "from tensorflow.keras.datasets import mnist\n",
    "from tensorflow.keras.preprocessing import image\n",
    "from tensorflow.keras.layers import BatchNormalization, Dropout\n",
    "from keras.initializers import HeNormal"
   ]
  },
  {
   "cell_type": "code",
   "execution_count": 3,
   "id": "eb882202-8e2c-4052-b9aa-88f16a5d0aa5",
   "metadata": {},
   "outputs": [],
   "source": [
    "from PIL import Image\n",
    "from skimage.transform import resize\n",
    "import random"
   ]
  },
  {
   "cell_type": "code",
   "execution_count": 4,
   "id": "51f511da-9cdf-4172-a0bc-ccb4ea8b92c5",
   "metadata": {},
   "outputs": [],
   "source": [
    "test_pair=pd.read_csv(\"test_candidates.csv\")\n",
    "test_data = []\n",
    "for i in range(len(test_pair)):\n",
    "    left_path = test_pair.left[i] + '.jpg'\n",
    "    for j in (test_pair.loc[i,\"c0\":\"c19\"]):\n",
    "        temp = []\n",
    "        right_path = j + '.jpg'\n",
    "        temp.append(left_path)\n",
    "        temp.append(right_path)\n",
    "        test_data.append(temp)"
   ]
  },
  {
   "cell_type": "code",
   "execution_count": 5,
   "id": "89df4e03-efa8-4ab6-bb75-73c906f2ea9d",
   "metadata": {},
   "outputs": [
    {
     "data": {
      "text/plain": [
       "[['abm.jpg', 'kyr.jpg'],\n",
       " ['abm.jpg', 'qqo.jpg'],\n",
       " ['abm.jpg', 'xpv.jpg'],\n",
       " ['abm.jpg', 'tnd.jpg'],\n",
       " ['abm.jpg', 'xal.jpg'],\n",
       " ['abm.jpg', 'pvr.jpg'],\n",
       " ['abm.jpg', 'nsb.jpg'],\n",
       " ['abm.jpg', 'yzv.jpg'],\n",
       " ['abm.jpg', 'ahb.jpg'],\n",
       " ['abm.jpg', 'mlm.jpg'],\n",
       " ['abm.jpg', 'drb.jpg'],\n",
       " ['abm.jpg', 'vqu.jpg'],\n",
       " ['abm.jpg', 'vzr.jpg'],\n",
       " ['abm.jpg', 'kxe.jpg'],\n",
       " ['abm.jpg', 'mdq.jpg'],\n",
       " ['abm.jpg', 'oai.jpg'],\n",
       " ['abm.jpg', 'nmm.jpg'],\n",
       " ['abm.jpg', 'yzu.jpg'],\n",
       " ['abm.jpg', 'ihk.jpg'],\n",
       " ['abm.jpg', 'zwv.jpg'],\n",
       " ['aci.jpg', 'jzn.jpg'],\n",
       " ['aci.jpg', 'hxw.jpg'],\n",
       " ['aci.jpg', 'iaj.jpg'],\n",
       " ['aci.jpg', 'edq.jpg'],\n",
       " ['aci.jpg', 'huu.jpg'],\n",
       " ['aci.jpg', 'huk.jpg'],\n",
       " ['aci.jpg', 'owo.jpg'],\n",
       " ['aci.jpg', 'ntd.jpg'],\n",
       " ['aci.jpg', 'uhk.jpg'],\n",
       " ['aci.jpg', 'ojv.jpg'],\n",
       " ['aci.jpg', 'mhg.jpg'],\n",
       " ['aci.jpg', 'exb.jpg'],\n",
       " ['aci.jpg', 'pny.jpg'],\n",
       " ['aci.jpg', 'kbo.jpg'],\n",
       " ['aci.jpg', 'tdb.jpg'],\n",
       " ['aci.jpg', 'sok.jpg'],\n",
       " ['aci.jpg', 'zsq.jpg'],\n",
       " ['aci.jpg', 'yfg.jpg'],\n",
       " ['aci.jpg', 'iqx.jpg'],\n",
       " ['aci.jpg', 'jnj.jpg']]"
      ]
     },
     "execution_count": 5,
     "metadata": {},
     "output_type": "execute_result"
    }
   ],
   "source": [
    "test_data[0:40]"
   ]
  },
  {
   "cell_type": "code",
   "execution_count": 14,
   "id": "7f320698-f29e-4e68-b433-edc187ef9690",
   "metadata": {},
   "outputs": [
    {
     "name": "stdout",
     "output_type": "stream",
     "text": [
      "1000\n",
      "2000\n",
      "3000\n",
      "4000\n",
      "5000\n",
      "6000\n",
      "7000\n",
      "8000\n",
      "9000\n",
      "10000\n",
      "11000\n",
      "12000\n",
      "13000\n",
      "14000\n",
      "15000\n",
      "16000\n",
      "17000\n",
      "18000\n",
      "19000\n",
      "20000\n",
      "21000\n",
      "22000\n",
      "23000\n",
      "24000\n",
      "25000\n",
      "26000\n",
      "27000\n",
      "28000\n",
      "29000\n",
      "30000\n",
      "31000\n",
      "32000\n",
      "33000\n",
      "34000\n",
      "35000\n",
      "36000\n",
      "37000\n",
      "38000\n",
      "39000\n",
      "40000\n"
     ]
    }
   ],
   "source": [
    "import numpy as np\n",
    "from keras.applications.vgg16 import VGG16, preprocess_input\n",
    "from tensorflow.keras.applications.resnet50 import ResNet50, preprocess_input\n",
    "from keras.preprocessing import image\n",
    "from sklearn.metrics.pairwise import cosine_similarity\n",
    "from tensorflow.keras.preprocessing import image\n",
    "\n",
    "final_simi = []\n",
    "left_curr_image = 'none' \n",
    "count = 0\n",
    "# 加载预训练的VGG16模型，但不包括顶部的全连接层\n",
    "# base_model = VGG16(weights='imagenet', include_top=False, pooling='avg')\n",
    "\n",
    "# def extract_features(img_path, model):\n",
    "#     img = image.load_img(img_path, target_size=(224, 224))\n",
    "#     img_array = image.img_to_array(img)\n",
    "#     expanded_img_array = np.expand_dims(img_array, axis=0)\n",
    "#     preprocessed_img = preprocess_input(expanded_img_array)\n",
    "#     features = model.predict(preprocessed_img, verbose=0)\n",
    "#     return features\n",
    "base_model = ResNet50(weights='imagenet', include_top=False, pooling='avg')\n",
    "\n",
    "def extract_features(img_path, model):\n",
    "    # 加载图像为灰度图\n",
    "    img = image.load_img(img_path, target_size=(80,98))\n",
    "    img_array = image.img_to_array(img)\n",
    "    expanded_img_array = np.expand_dims(img_array, axis=0)\n",
    "    preprocessed_img = preprocess_input(expanded_img_array)\n",
    "    features = model.predict(preprocessed_img, verbose=0)\n",
    "    return features\n",
    "# 对于测试集中的每对图像\n",
    "for test_pair in test_data:\n",
    "    # print(test_pair)\n",
    "    count += 1\n",
    "    left_image_path = \"test/left/\" + test_pair[0]\n",
    "    right_image_path = \"test/right/\" + test_pair[1]\n",
    "    \n",
    "    if test_pair[0] == left_curr_image:\n",
    "        left_curr_image = test_pair[0]\n",
    "    else:\n",
    "        # print('--' + str(count) + '-- ' + left_curr_image + ' ' + test_pair[0])\n",
    "        left_curr_image = test_pair[0]\n",
    "        left_curr_features = extract_features(left_image_path, base_model)\n",
    "    left_image_features = left_curr_features\n",
    "    right_image_features = extract_features(right_image_path, base_model)\n",
    "\n",
    "    # 计算余弦相似性\n",
    "    cosine_sim = cosine_similarity(left_image_features, right_image_features)\n",
    "    final_simi.append(cosine_sim[0][0])\n",
    "    if count % 1000 == 0:\n",
    "        print(count)\n",
    "    # print(\"Cosine Similarity:\", cosine_sim[0][0])\n"
   ]
  },
  {
   "cell_type": "code",
   "execution_count": 15,
   "id": "b0f42b58-cfaa-4db0-8e24-5413a418f400",
   "metadata": {},
   "outputs": [
    {
     "data": {
      "text/plain": [
       "[0.33358628,\n",
       " 0.18982843,\n",
       " 0.52623224,\n",
       " 0.16395174,\n",
       " 0.09458569,\n",
       " 0.16050726,\n",
       " 0.35471246,\n",
       " 0.36721766,\n",
       " 0.36080503,\n",
       " 0.39748043,\n",
       " 0.14532569,\n",
       " 0.45391995,\n",
       " 0.27956736,\n",
       " 0.30182695,\n",
       " 0.49889892,\n",
       " 0.45375317,\n",
       " 0.31676978,\n",
       " 0.17583992,\n",
       " 0.44225645,\n",
       " 0.24134003,\n",
       " 0.28563657,\n",
       " 0.30986425,\n",
       " 0.17543735,\n",
       " 0.34109336,\n",
       " 0.32903624,\n",
       " 0.26196462,\n",
       " 0.21575238,\n",
       " 0.38607195,\n",
       " 0.25578624,\n",
       " 0.31175533,\n",
       " 0.2560112,\n",
       " 0.31334633,\n",
       " 0.3839141,\n",
       " 0.2549193,\n",
       " 0.39798528,\n",
       " 0.343832,\n",
       " 0.27791536,\n",
       " 0.21979026,\n",
       " 0.20824772,\n",
       " 0.260837]"
      ]
     },
     "execution_count": 15,
     "metadata": {},
     "output_type": "execute_result"
    }
   ],
   "source": [
    "final_simi[0:40]"
   ]
  },
  {
   "cell_type": "code",
   "execution_count": 12,
   "id": "a146da39-58e2-425b-b45b-08fe1ea9894d",
   "metadata": {},
   "outputs": [
    {
     "data": {
      "text/plain": [
       "[0.45062652,\n",
       " 0.3747921,\n",
       " 0.5773802,\n",
       " 0.15210658,\n",
       " 0.10127017,\n",
       " 0.25599873,\n",
       " 0.46146894,\n",
       " 0.5362149,\n",
       " 0.42189264,\n",
       " 0.45887086,\n",
       " 0.13230847,\n",
       " 0.5369069,\n",
       " 0.25777656,\n",
       " 0.4478378,\n",
       " 0.55128074,\n",
       " 0.6451139,\n",
       " 0.52847457,\n",
       " 0.2348204,\n",
       " 0.5922309,\n",
       " 0.34413394,\n",
       " 0.40240175,\n",
       " 0.29943,\n",
       " 0.2521808,\n",
       " 0.28756604,\n",
       " 0.38287234,\n",
       " 0.319889,\n",
       " 0.37609586,\n",
       " 0.38957354,\n",
       " 0.31242603,\n",
       " 0.2026255,\n",
       " 0.28357178,\n",
       " 0.29543555,\n",
       " 0.41501516,\n",
       " 0.30309486,\n",
       " 0.40846825,\n",
       " 0.3026021,\n",
       " 0.37282413,\n",
       " 0.2471081,\n",
       " 0.25850534,\n",
       " 0.3396534]"
      ]
     },
     "execution_count": 12,
     "metadata": {},
     "output_type": "execute_result"
    }
   ],
   "source": [
    "final_simi[0:40]"
   ]
  },
  {
   "cell_type": "code",
   "execution_count": 16,
   "id": "fac6f0ba-0306-482b-bacb-fc8fe3eac4e2",
   "metadata": {},
   "outputs": [],
   "source": [
    "import csv\n",
    "\n",
    "# 假设您的相似度列表如下：\n",
    "similarity_list = [0.9, 0.8, 0.7, ...]  # ...代表其他值\n",
    "\n",
    "# 读取CSV文件\n",
    "with open('submission.csv', 'r') as csvfile:\n",
    "    reader = csv.reader(csvfile)\n",
    "    rows = [row for row in reader]\n",
    "\n",
    "# 更新CSV文件的值\n",
    "for i in range(1, len(rows)):  # 从第二行开始，因为第一行是标题行\n",
    "    for j in range(1, 21):  # 对于c0到c19\n",
    "        rows[i][j] = final_simi[(i-1)*20 + (j-1)]\n",
    "\n",
    "# 将更新后的值写回CSV文件\n",
    "with open('submission.csv', 'w', newline='') as csvfile:\n",
    "    writer = csv.writer(csvfile)\n",
    "    writer.writerows(rows)\n"
   ]
  },
  {
   "cell_type": "code",
   "execution_count": 17,
   "id": "67401d0c-536c-4e48-b975-05301f0fc102",
   "metadata": {},
   "outputs": [],
   "source": [
    "submission=pd.read_csv(\"submission_resNet.csv\")\n",
    "for i in range(len(submission)):\n",
    "    row = []\n",
    "    for j in (submission.loc[i,\"c0\":\"c19\"]):\n",
    "        if j > 0:\n",
    "            row.append(j)\n",
    "        else:\n",
    "            row.append(0)\n",
    "    submission.loc[i,\"c0\":\"c19\"] = row"
   ]
  },
  {
   "cell_type": "code",
   "execution_count": 19,
   "id": "abf68726-635c-488e-8d93-6d726b58160b",
   "metadata": {},
   "outputs": [],
   "source": [
    "submission.to_csv('submission_resNet.csv', index=False)"
   ]
  },
  {
   "cell_type": "code",
   "execution_count": null,
   "id": "9a625c7b-cfd3-49c0-b37e-b02fd37ec140",
   "metadata": {},
   "outputs": [],
   "source": []
  }
 ],
 "metadata": {
  "kernelspec": {
   "display_name": "Python 3 (ipykernel)",
   "language": "python",
   "name": "python3"
  },
  "language_info": {
   "codemirror_mode": {
    "name": "ipython",
    "version": 3
   },
   "file_extension": ".py",
   "mimetype": "text/x-python",
   "name": "python",
   "nbconvert_exporter": "python",
   "pygments_lexer": "ipython3",
   "version": "3.9.17"
  }
 },
 "nbformat": 4,
 "nbformat_minor": 5
}
